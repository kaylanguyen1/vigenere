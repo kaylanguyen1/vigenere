import sys
from subprocess import Popen, PIPE

def main():
    
    log_file = input("Input log file name: ")

    log = Popen(["python", "logger.py", log_file], stdin=PIPE, encoding='utf8')
    encrypt = Popen(["python", "encrypt.py"], stdin=PIPE, stdout=PIPE, encoding='utf8')

    log.stdin.write("[START] Driver program started\n")
    log.stdin.flush()

    history = []
    passkey = None

    #Print menu
    while True:
        print("""
        password
        encrypt
        decrypt
        history
        quit
        """)

        choice = input("Enter command: ").lower()
        log.stdin.write(f"[COMMAND] {choice}\n")
        log.stdin.flush()

        #if command is password
        if choice == "password":
            #pick between password from history or ask user to add create new string
            pwchoice = input("Pick 'history' or 'new': ")
            log.stdin.write(f"[PASSWORD] Pick 'history' or 'new': {pwchoice}\n ")
        
            #new password
            if pwchoice =="new":
                text = input("Enter new passkey: ")
                password = text.upper()
                encrypt.stdin.write(f"PASS {password}\n")
                encrypt.stdin.flush()

                result = encrypt.stdout.readline().rstrip()
                print(result)
                log.stdin.write(f"[PASSKEY] {password}\n")
            #old password
            elif pwchoice == "history":
                #loop through history
                if len(history) == 0:
                    print("No history available")
                    log.stdin.write(f"[ERROR] no history available\n")
                    log.stdin.flush()
                    continue
                else:   
                    for i, item in enumerate(history):
                        print(f"{i+1}: {item}")
                    index = int(input("Select index: ")) - 1
                    password = history[index]
                    encrypt.stdin.write(f"PASS {password}\n")
                    encrypt.stdin.flush()
    
                    result = encrypt.stdout.readline().rstrip()
                    print(result)
                    log.stdin.write(f"[PASSKEY] {password}\n")
            #old password
            else:
                print("Invalid choice")
                log.stdin.write("[ERROR] Invalid password choice\n")

        #if command is encrypt
        elif choice == "encrypt":
            #if no password set then go back to menu
            if password is None:
                print("ERROR password not set")
                log.stdin.write(f"[ERROR] passkey not set\n")
                log.stdin.flush()
                continue
            #pick old or new string to encrypt
            enchoice = input("Pick 'history' or 'new' string: ")
            log.stdin.write(f"[ENCRYPT] Pick 'history' or 'new' string: {enchoice}\n")
            log.stdin.flush()
            #new string
            if enchoice == "new":
                text = input("Enter new string: ")
                #only allow alphabetic characters in string
                if not text.isalpha():
                    print("ERROR Only letters allowed.")
                    log.stdin.write(f"[ERROR] Only letters allowed\n")
                    log.stdin.flush()
                    continue
                txt = text.upper()
                encrypt.stdin.write(f"ENCRYPT {txt}\n")
                encrypt.stdin.flush()
                log.stdin.write(f"[ENCRYPT] {txt}\n")
                log.stdin.flush()

                result = encrypt.stdout.readline().rstrip()
                print(result)
                log.stdin.write(f"[ENCRYPT] {result}\n")
                
                history.append(text)
                
            #old string
            elif enchoice == "history":
                #print history
                if len(history) == 0:
                    print("No history available")
                    log.stdin.write(f"[ERROR] no history available\n")
                    log.stdin.flush()
                    continue
                else: 
                    for i, item in enumerate(history):
                        print(f"{i+1}: {item}")
                    index = int(input("Select index: ")) - 1
                    text = history[index]
                    
                    encrypt.stdin.write(f"ENCRYPT {text}\n")
                    encrypt.stdin.flush()
                    log.stdin.write(f"[ENCRYPT] {text}\n")
                    log.stdin.flush()
    
                    result = encrypt.stdout.readline().rstrip()
                    print(result)
                    log.stdin.write(f"[ENCRYPT] {result}\n")

            else:
                print("ERROR Invalid encryption choice")
                log.stdin.write("[ERROR] Invalid encryption choice\n")

        #if command is decrypt
        elif choice == "decrypt":
            if password is None:
                print("ERROR password not set")
                log.stdin.write(f"[ERROR] passkey not set\n")
                log.stdin.flush()
                continue

            dechoice = input("Pick 'history' or 'new' string: ")
            log.stdin.write(f"[DECRYPT] Pick 'history' or 'new' string: {dechoice}\n")
            log.stdin.flush()
            
            #if decrypting new string
            if dechoice == "new":
                text = input("Enter new string: ")
                if not text.isalpha():
                    print("ERROR Only letters allowed.")
                    log.stdin.write(f"[ERROR] Only letters allowed\n")
                    log.stdin.flush()
                    continue

                txt = text.upper()
                encrypt.stdin.write(f"DECRYPT {txt}\n")
                encrypt.stdin.flush()
                log.stdin.write(f"DECRYPT {txt}\n")
                log.stdin.flush()

                result = encrypt.stdout.readline().rstrip()
                print(result)
                log.stdin.write(f"[DECRYPT] {result}\n")

                history.append(text)
                
            #if decrypting old string
            elif dechoice == "history":
                #print menu
                if len(history) == 0:
                    print("No history available")
                    log.stdin.write(f"[ERROR] no history available\n")
                    log.stdin.flush()
                    continue
                else: 
                    for i, item in enumerate(history):
                        print(f"{i+1}: {item}")
                    index = int(input("Select index: ")) - 1
                    text = history[index]
                    
                    encrypt.stdin.write(f"DECRYPT {text}\n")
                    encrypt.stdin.flush()
                    log.stdin.write(f"DECRYPT {text}\n")
                    log.stdin.flush()
    
                    result = encrypt.stdout.readline().rstrip()
                    print(result)
                    log.stdin.write(f"[DECRYPT] {result}\n")
               
            else:
                print("ERROR Invalid decryption choice")
                log.stdin.write("[ERROR] Invalid decryption choice\n")

        #if command is history
        elif choice == "history":
            print("History:")
            for item in history:
                print(item)

            history_string = "\n".join(history) if history else "No history"
            log.stdin.write(f"[HISTORY]: \n{history_string}\n")
            log.stdin.flush()

        #if command is quit
        elif choice == "quit":
            encrypt.stdin.write("QUIT NOW\n")
            encrypt.stdin.flush()
            print(encrypt.stdout.readline().rstrip())
            
            log.stdin.write("[QUIT] Exiting program\n")
            log.stdin.flush()

            encrypt.wait()
            log.wait()
            break

        else:
            print("ERROR Invalid choice")
            log.stdin.write("[ERROR] Invalid command\n")
            log.stdin.flush()

if __name__ == "__main__":
    main()




